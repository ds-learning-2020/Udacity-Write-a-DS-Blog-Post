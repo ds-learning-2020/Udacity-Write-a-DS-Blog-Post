{
 "cells": [
  {
   "cell_type": "code",
   "execution_count": 139,
   "metadata": {},
   "outputs": [],
   "source": [
    "import pandas as pd\n",
    "import numpy as np\n",
    "import seaborn as sb\n",
    "import matplotlib.pyplot as plt\n",
    "\n",
    "%matplotlib inline"
   ]
  },
  {
   "cell_type": "markdown",
   "metadata": {},
   "source": [
    "## Data Understanding\n",
    "\n",
    "We will explore the dataset next."
   ]
  },
  {
   "cell_type": "code",
   "execution_count": 140,
   "metadata": {},
   "outputs": [],
   "source": [
    "# load the data\n",
    "\n",
    "calendar = pd.read_csv(\"data/calendar.csv\")\n",
    "listings = pd.read_csv(\"data/listings.csv\")\n",
    "reviews = pd.read_csv(\"data/reviews.csv\")"
   ]
  },
  {
   "cell_type": "code",
   "execution_count": 141,
   "metadata": {},
   "outputs": [
    {
     "name": "stdout",
     "output_type": "stream",
     "text": [
      "Calendar Info: \n",
      "<class 'pandas.core.frame.DataFrame'>\n",
      "RangeIndex: 1393570 entries, 0 to 1393569\n",
      "Data columns (total 4 columns):\n",
      "listing_id    1393570 non-null int64\n",
      "date          1393570 non-null object\n",
      "available     1393570 non-null object\n",
      "price         934542 non-null object\n",
      "dtypes: int64(1), object(3)\n",
      "memory usage: 42.5+ MB\n"
     ]
    }
   ],
   "source": [
    "# basic info for each dataset\n",
    "\n",
    "print(\"Calendar Info: \")\n",
    "calendar.info();"
   ]
  },
  {
   "cell_type": "code",
   "execution_count": 142,
   "metadata": {},
   "outputs": [
    {
     "name": "stdout",
     "output_type": "stream",
     "text": [
      "Listings Info: \n",
      "<class 'pandas.core.frame.DataFrame'>\n",
      "RangeIndex: 3818 entries, 0 to 3817\n",
      "Data columns (total 92 columns):\n",
      "id                                  3818 non-null int64\n",
      "listing_url                         3818 non-null object\n",
      "scrape_id                           3818 non-null int64\n",
      "last_scraped                        3818 non-null object\n",
      "name                                3818 non-null object\n",
      "summary                             3641 non-null object\n",
      "space                               3249 non-null object\n",
      "description                         3818 non-null object\n",
      "experiences_offered                 3818 non-null object\n",
      "neighborhood_overview               2786 non-null object\n",
      "notes                               2212 non-null object\n",
      "transit                             2884 non-null object\n",
      "thumbnail_url                       3498 non-null object\n",
      "medium_url                          3498 non-null object\n",
      "picture_url                         3818 non-null object\n",
      "xl_picture_url                      3498 non-null object\n",
      "host_id                             3818 non-null int64\n",
      "host_url                            3818 non-null object\n",
      "host_name                           3816 non-null object\n",
      "host_since                          3816 non-null object\n",
      "host_location                       3810 non-null object\n",
      "host_about                          2959 non-null object\n",
      "host_response_time                  3295 non-null object\n",
      "host_response_rate                  3295 non-null object\n",
      "host_acceptance_rate                3045 non-null object\n",
      "host_is_superhost                   3816 non-null object\n",
      "host_thumbnail_url                  3816 non-null object\n",
      "host_picture_url                    3816 non-null object\n",
      "host_neighbourhood                  3518 non-null object\n",
      "host_listings_count                 3816 non-null float64\n",
      "host_total_listings_count           3816 non-null float64\n",
      "host_verifications                  3818 non-null object\n",
      "host_has_profile_pic                3816 non-null object\n",
      "host_identity_verified              3816 non-null object\n",
      "street                              3818 non-null object\n",
      "neighbourhood                       3402 non-null object\n",
      "neighbourhood_cleansed              3818 non-null object\n",
      "neighbourhood_group_cleansed        3818 non-null object\n",
      "city                                3818 non-null object\n",
      "state                               3818 non-null object\n",
      "zipcode                             3811 non-null object\n",
      "market                              3818 non-null object\n",
      "smart_location                      3818 non-null object\n",
      "country_code                        3818 non-null object\n",
      "country                             3818 non-null object\n",
      "latitude                            3818 non-null float64\n",
      "longitude                           3818 non-null float64\n",
      "is_location_exact                   3818 non-null object\n",
      "property_type                       3817 non-null object\n",
      "room_type                           3818 non-null object\n",
      "accommodates                        3818 non-null int64\n",
      "bathrooms                           3802 non-null float64\n",
      "bedrooms                            3812 non-null float64\n",
      "beds                                3817 non-null float64\n",
      "bed_type                            3818 non-null object\n",
      "amenities                           3818 non-null object\n",
      "square_feet                         97 non-null float64\n",
      "price                               3818 non-null object\n",
      "weekly_price                        2009 non-null object\n",
      "monthly_price                       1517 non-null object\n",
      "security_deposit                    1866 non-null object\n",
      "cleaning_fee                        2788 non-null object\n",
      "guests_included                     3818 non-null int64\n",
      "extra_people                        3818 non-null object\n",
      "minimum_nights                      3818 non-null int64\n",
      "maximum_nights                      3818 non-null int64\n",
      "calendar_updated                    3818 non-null object\n",
      "has_availability                    3818 non-null object\n",
      "availability_30                     3818 non-null int64\n",
      "availability_60                     3818 non-null int64\n",
      "availability_90                     3818 non-null int64\n",
      "availability_365                    3818 non-null int64\n",
      "calendar_last_scraped               3818 non-null object\n",
      "number_of_reviews                   3818 non-null int64\n",
      "first_review                        3191 non-null object\n",
      "last_review                         3191 non-null object\n",
      "review_scores_rating                3171 non-null float64\n",
      "review_scores_accuracy              3160 non-null float64\n",
      "review_scores_cleanliness           3165 non-null float64\n",
      "review_scores_checkin               3160 non-null float64\n",
      "review_scores_communication         3167 non-null float64\n",
      "review_scores_location              3163 non-null float64\n",
      "review_scores_value                 3162 non-null float64\n",
      "requires_license                    3818 non-null object\n",
      "license                             0 non-null float64\n",
      "jurisdiction_names                  3818 non-null object\n",
      "instant_bookable                    3818 non-null object\n",
      "cancellation_policy                 3818 non-null object\n",
      "require_guest_profile_picture       3818 non-null object\n",
      "require_guest_phone_verification    3818 non-null object\n",
      "calculated_host_listings_count      3818 non-null int64\n",
      "reviews_per_month                   3191 non-null float64\n",
      "dtypes: float64(17), int64(13), object(62)\n",
      "memory usage: 2.7+ MB\n"
     ]
    }
   ],
   "source": [
    "print(\"Listings Info: \")\n",
    "listings.info();"
   ]
  },
  {
   "cell_type": "code",
   "execution_count": 143,
   "metadata": {},
   "outputs": [
    {
     "name": "stdout",
     "output_type": "stream",
     "text": [
      "Reviews Info: \n",
      "<class 'pandas.core.frame.DataFrame'>\n",
      "RangeIndex: 84849 entries, 0 to 84848\n",
      "Data columns (total 6 columns):\n",
      "listing_id       84849 non-null int64\n",
      "id               84849 non-null int64\n",
      "date             84849 non-null object\n",
      "reviewer_id      84849 non-null int64\n",
      "reviewer_name    84849 non-null object\n",
      "comments         84831 non-null object\n",
      "dtypes: int64(3), object(3)\n",
      "memory usage: 3.9+ MB\n"
     ]
    }
   ],
   "source": [
    "print(\"Reviews Info: \")\n",
    "reviews.info();"
   ]
  },
  {
   "cell_type": "code",
   "execution_count": 144,
   "metadata": {},
   "outputs": [
    {
     "data": {
      "text/html": [
       "<div>\n",
       "<style scoped>\n",
       "    .dataframe tbody tr th:only-of-type {\n",
       "        vertical-align: middle;\n",
       "    }\n",
       "\n",
       "    .dataframe tbody tr th {\n",
       "        vertical-align: top;\n",
       "    }\n",
       "\n",
       "    .dataframe thead th {\n",
       "        text-align: right;\n",
       "    }\n",
       "</style>\n",
       "<table border=\"1\" class=\"dataframe\">\n",
       "  <thead>\n",
       "    <tr style=\"text-align: right;\">\n",
       "      <th></th>\n",
       "      <th>listing_id</th>\n",
       "      <th>date</th>\n",
       "      <th>available</th>\n",
       "      <th>price</th>\n",
       "    </tr>\n",
       "  </thead>\n",
       "  <tbody>\n",
       "    <tr>\n",
       "      <th>0</th>\n",
       "      <td>241032</td>\n",
       "      <td>2016-01-04</td>\n",
       "      <td>t</td>\n",
       "      <td>$85.00</td>\n",
       "    </tr>\n",
       "    <tr>\n",
       "      <th>1</th>\n",
       "      <td>241032</td>\n",
       "      <td>2016-01-05</td>\n",
       "      <td>t</td>\n",
       "      <td>$85.00</td>\n",
       "    </tr>\n",
       "    <tr>\n",
       "      <th>2</th>\n",
       "      <td>241032</td>\n",
       "      <td>2016-01-06</td>\n",
       "      <td>f</td>\n",
       "      <td>NaN</td>\n",
       "    </tr>\n",
       "  </tbody>\n",
       "</table>\n",
       "</div>"
      ],
      "text/plain": [
       "   listing_id        date available   price\n",
       "0  241032      2016-01-04  t         $85.00\n",
       "1  241032      2016-01-05  t         $85.00\n",
       "2  241032      2016-01-06  f         NaN   "
      ]
     },
     "execution_count": 144,
     "metadata": {},
     "output_type": "execute_result"
    }
   ],
   "source": [
    "# explore some data from each dataset\n",
    "\n",
    "calendar.head(3)"
   ]
  },
  {
   "cell_type": "code",
   "execution_count": 145,
   "metadata": {},
   "outputs": [
    {
     "data": {
      "text/html": [
       "<div>\n",
       "<style scoped>\n",
       "    .dataframe tbody tr th:only-of-type {\n",
       "        vertical-align: middle;\n",
       "    }\n",
       "\n",
       "    .dataframe tbody tr th {\n",
       "        vertical-align: top;\n",
       "    }\n",
       "\n",
       "    .dataframe thead th {\n",
       "        text-align: right;\n",
       "    }\n",
       "</style>\n",
       "<table border=\"1\" class=\"dataframe\">\n",
       "  <thead>\n",
       "    <tr style=\"text-align: right;\">\n",
       "      <th></th>\n",
       "      <th>id</th>\n",
       "      <th>listing_url</th>\n",
       "      <th>scrape_id</th>\n",
       "      <th>last_scraped</th>\n",
       "      <th>name</th>\n",
       "      <th>summary</th>\n",
       "      <th>space</th>\n",
       "      <th>description</th>\n",
       "      <th>experiences_offered</th>\n",
       "      <th>neighborhood_overview</th>\n",
       "      <th>...</th>\n",
       "      <th>review_scores_value</th>\n",
       "      <th>requires_license</th>\n",
       "      <th>license</th>\n",
       "      <th>jurisdiction_names</th>\n",
       "      <th>instant_bookable</th>\n",
       "      <th>cancellation_policy</th>\n",
       "      <th>require_guest_profile_picture</th>\n",
       "      <th>require_guest_phone_verification</th>\n",
       "      <th>calculated_host_listings_count</th>\n",
       "      <th>reviews_per_month</th>\n",
       "    </tr>\n",
       "  </thead>\n",
       "  <tbody>\n",
       "    <tr>\n",
       "      <th>0</th>\n",
       "      <td>241032</td>\n",
       "      <td>https://www.airbnb.com/rooms/241032</td>\n",
       "      <td>20160104002432</td>\n",
       "      <td>2016-01-04</td>\n",
       "      <td>Stylish Queen Anne Apartment</td>\n",
       "      <td>NaN</td>\n",
       "      <td>Make your self at home in this charming one-bedroom apartment, centrally-located on the west side of Queen Anne hill.   This elegantly-decorated, completely private apartment (bottom unit of a duplex) has an open floor plan, bamboo floors, a fully equipped kitchen, a TV,  DVD player, basic cable, and a very cozy bedroom with a queen-size bed. The unit sleeps up to four (two in the bedroom and two on the very comfortable fold out couch, linens included) and includes free WiFi and laundry. The apartment opens onto a private deck, complete with it's own BBQ, overlooking a garden and a forest of black bamboo.    The Apartment is perfectly-located just one block from the bus lines where you can catch a bus and be downtown Seattle in fifteen minutes or historic Ballard in ten or a quick five-minute walk will bring you to Whole Foods and Peet's Coffee or take a fifteen minute walk to the top of Queen Anne Hill where you will find a variety of eclectic shops, bars, and restaurants. There is no</td>\n",
       "      <td>Make your self at home in this charming one-bedroom apartment, centrally-located on the west side of Queen Anne hill.   This elegantly-decorated, completely private apartment (bottom unit of a duplex) has an open floor plan, bamboo floors, a fully equipped kitchen, a TV,  DVD player, basic cable, and a very cozy bedroom with a queen-size bed. The unit sleeps up to four (two in the bedroom and two on the very comfortable fold out couch, linens included) and includes free WiFi and laundry. The apartment opens onto a private deck, complete with it's own BBQ, overlooking a garden and a forest of black bamboo.    The Apartment is perfectly-located just one block from the bus lines where you can catch a bus and be downtown Seattle in fifteen minutes or historic Ballard in ten or a quick five-minute walk will bring you to Whole Foods and Peet's Coffee or take a fifteen minute walk to the top of Queen Anne Hill where you will find a variety of eclectic shops, bars, and restaurants. There is no</td>\n",
       "      <td>none</td>\n",
       "      <td>NaN</td>\n",
       "      <td>...</td>\n",
       "      <td>10.0</td>\n",
       "      <td>f</td>\n",
       "      <td>NaN</td>\n",
       "      <td>WASHINGTON</td>\n",
       "      <td>f</td>\n",
       "      <td>moderate</td>\n",
       "      <td>f</td>\n",
       "      <td>f</td>\n",
       "      <td>2</td>\n",
       "      <td>4.07</td>\n",
       "    </tr>\n",
       "    <tr>\n",
       "      <th>1</th>\n",
       "      <td>953595</td>\n",
       "      <td>https://www.airbnb.com/rooms/953595</td>\n",
       "      <td>20160104002432</td>\n",
       "      <td>2016-01-04</td>\n",
       "      <td>Bright &amp; Airy Queen Anne Apartment</td>\n",
       "      <td>Chemically sensitive? We've removed the irritants triggering allergy or asthma attacks, like carpeting, forced air &amp; used pillows, all culprits that harbor fungus, mold &amp; bacteria.  No smoking, no pets.  Designed for healthy living, so breathe easy.</td>\n",
       "      <td>Beautiful, hypoallergenic apartment in an extremely safe, quiet and pedestrian-friendly section of Queen Anne.  A leafy-green location that puts the best of Seattle at your doorstep. Free WiFi, free parking, ...even free pillows!  What's special about this place? Hypo-allergenic bedding, mattresses/covers and new pillows with each rental. (So feel free to take your new pillows with you!)  A beautiful restoration mixing period details &amp; modern sensibilities: Hardwood floors throughout, white subway tile, low/no VOCs &amp; non-toxic paints keep this home-away-from-home clean, smart and healthy. Radiant heat and oil radiators mean no blowing hot air or dust.  Great Amenities: Free WiFi &amp; internet TV (LED flatscreen). Fully-equipped kitchen with stainless-steel appliances, sink &amp; disposal. Large washer &amp; dryer.  Iron/ironing board. Hairdryer. Plenty of storage. Convenient parking, both on- and off-street. The Best Location: Enjoy Seattle's celebrated Macrina bakery, neighborhood cafes, boutiqu</td>\n",
       "      <td>Chemically sensitive? We've removed the irritants triggering allergy or asthma attacks, like carpeting, forced air &amp; used pillows, all culprits that harbor fungus, mold &amp; bacteria.  No smoking, no pets.  Designed for healthy living, so breathe easy. Beautiful, hypoallergenic apartment in an extremely safe, quiet and pedestrian-friendly section of Queen Anne.  A leafy-green location that puts the best of Seattle at your doorstep. Free WiFi, free parking, ...even free pillows!  What's special about this place? Hypo-allergenic bedding, mattresses/covers and new pillows with each rental. (So feel free to take your new pillows with you!)  A beautiful restoration mixing period details &amp; modern sensibilities: Hardwood floors throughout, white subway tile, low/no VOCs &amp; non-toxic paints keep this home-away-from-home clean, smart and healthy. Radiant heat and oil radiators mean no blowing hot air or dust.  Great Amenities: Free WiFi &amp; internet TV (LED flatscreen). Fully-equipped kitchen with st</td>\n",
       "      <td>none</td>\n",
       "      <td>Queen Anne is a wonderful, truly functional village.  You can walk everywhere... for coffee, for groceries, for a night out, for breathtaking views of the Puget Sound.</td>\n",
       "      <td>...</td>\n",
       "      <td>10.0</td>\n",
       "      <td>f</td>\n",
       "      <td>NaN</td>\n",
       "      <td>WASHINGTON</td>\n",
       "      <td>f</td>\n",
       "      <td>strict</td>\n",
       "      <td>t</td>\n",
       "      <td>t</td>\n",
       "      <td>6</td>\n",
       "      <td>1.48</td>\n",
       "    </tr>\n",
       "    <tr>\n",
       "      <th>2</th>\n",
       "      <td>3308979</td>\n",
       "      <td>https://www.airbnb.com/rooms/3308979</td>\n",
       "      <td>20160104002432</td>\n",
       "      <td>2016-01-04</td>\n",
       "      <td>New Modern House-Amazing water view</td>\n",
       "      <td>New modern house built in 2013.  Spectacular sunset/water views and light, rooftop deck and lounge area, hot tub, 5 bedrooms, gourmet kitchen.  Perfect for 2-3 families, walk to downtown.  Located in highly desirable Queen Anne neighborhood.</td>\n",
       "      <td>Our house is modern, light and fresh with a warm simple palette accented with barnwood, steel and concrete.  Open living spaces for entertaining, gourmet kitchen, deck off the kitchen, reading nook, half bath and smaller tv room off kitchen.  Fireplace with sofa and sitting area. Basement room is great for kids...this room has patio access and a garage door that opens into the space with basketball hoop right outside.  A queen bedroom and full bath are in the basement with concrete heated floors.  A queen sleeper sofa is in the tv area in the basement.  This room has a door if privacy is needed.  Great for a second family with kids.  The 2nd floor has 4 bedrooms (one queen in master, one twin bedroom, another bedroom has twin bunk beds and the last bedroom has a queen bed. Their are 2 full baths, both with double sinks on this floor(one in the master).  The 3rd floor is a very large deck, hot tub, kitchen prep area with fridge, lounge space for movies and 3/4 bath (rain head shower).</td>\n",
       "      <td>New modern house built in 2013.  Spectacular sunset/water views and light, rooftop deck and lounge area, hot tub, 5 bedrooms, gourmet kitchen.  Perfect for 2-3 families, walk to downtown.  Located in highly desirable Queen Anne neighborhood. Our house is modern, light and fresh with a warm simple palette accented with barnwood, steel and concrete.  Open living spaces for entertaining, gourmet kitchen, deck off the kitchen, reading nook, half bath and smaller tv room off kitchen.  Fireplace with sofa and sitting area. Basement room is great for kids...this room has patio access and a garage door that opens into the space with basketball hoop right outside.  A queen bedroom and full bath are in the basement with concrete heated floors.  A queen sleeper sofa is in the tv area in the basement.  This room has a door if privacy is needed.  Great for a second family with kids.  The 2nd floor has 4 bedrooms (one queen in master, one twin bedroom, another bedroom has twin bunk beds and the last</td>\n",
       "      <td>none</td>\n",
       "      <td>Upper Queen Anne is a charming neighborhood full of a mix of beautifully maintained, turn-of-the-century craftsman homes, tudors and modern homes.  The \"main drag\" is Queen Anne Ave. with a great selection of boutiques, restaurants, coffee shops and bars.  Upper Queen Anne is just 1.5 miles from downtown Seattle, and situated on a hilltop with stunning panoramic views in every direction -- downtown Seattle, the Space Needle and Mt. Rainier to the southeast, Elliott Bay to the southwest, the Olympic Mountains to the west and the Cascade Mountains to the east. If you're a walker, you'll love the 4-mile \"Crown of Queen Anne\" loop which takes in all of these views!</td>\n",
       "      <td>...</td>\n",
       "      <td>10.0</td>\n",
       "      <td>f</td>\n",
       "      <td>NaN</td>\n",
       "      <td>WASHINGTON</td>\n",
       "      <td>f</td>\n",
       "      <td>strict</td>\n",
       "      <td>f</td>\n",
       "      <td>f</td>\n",
       "      <td>2</td>\n",
       "      <td>1.15</td>\n",
       "    </tr>\n",
       "  </tbody>\n",
       "</table>\n",
       "<p>3 rows × 92 columns</p>\n",
       "</div>"
      ],
      "text/plain": [
       "        id                           listing_url       scrape_id last_scraped  \\\n",
       "0  241032   https://www.airbnb.com/rooms/241032   20160104002432  2016-01-04    \n",
       "1  953595   https://www.airbnb.com/rooms/953595   20160104002432  2016-01-04    \n",
       "2  3308979  https://www.airbnb.com/rooms/3308979  20160104002432  2016-01-04    \n",
       "\n",
       "                                  name  \\\n",
       "0  Stylish Queen Anne Apartment          \n",
       "1  Bright & Airy Queen Anne Apartment    \n",
       "2  New Modern House-Amazing water view   \n",
       "\n",
       "                                                                                                                                                                                                                                                     summary  \\\n",
       "0  NaN                                                                                                                                                                                                                                                         \n",
       "1  Chemically sensitive? We've removed the irritants triggering allergy or asthma attacks, like carpeting, forced air & used pillows, all culprits that harbor fungus, mold & bacteria.  No smoking, no pets.  Designed for healthy living, so breathe easy.   \n",
       "2  New modern house built in 2013.  Spectacular sunset/water views and light, rooftop deck and lounge area, hot tub, 5 bedrooms, gourmet kitchen.  Perfect for 2-3 families, walk to downtown.  Located in highly desirable Queen Anne neighborhood.           \n",
       "\n",
       "                                                                                                                                                                                                                                                                                                                                                                                                                                                                                                                                                                                                                                                                                                                                                                                                                                                                                                                                                                                                                                      space  \\\n",
       "0  Make your self at home in this charming one-bedroom apartment, centrally-located on the west side of Queen Anne hill.   This elegantly-decorated, completely private apartment (bottom unit of a duplex) has an open floor plan, bamboo floors, a fully equipped kitchen, a TV,  DVD player, basic cable, and a very cozy bedroom with a queen-size bed. The unit sleeps up to four (two in the bedroom and two on the very comfortable fold out couch, linens included) and includes free WiFi and laundry. The apartment opens onto a private deck, complete with it's own BBQ, overlooking a garden and a forest of black bamboo.    The Apartment is perfectly-located just one block from the bus lines where you can catch a bus and be downtown Seattle in fifteen minutes or historic Ballard in ten or a quick five-minute walk will bring you to Whole Foods and Peet's Coffee or take a fifteen minute walk to the top of Queen Anne Hill where you will find a variety of eclectic shops, bars, and restaurants. There is no   \n",
       "1  Beautiful, hypoallergenic apartment in an extremely safe, quiet and pedestrian-friendly section of Queen Anne.  A leafy-green location that puts the best of Seattle at your doorstep. Free WiFi, free parking, ...even free pillows!  What's special about this place? Hypo-allergenic bedding, mattresses/covers and new pillows with each rental. (So feel free to take your new pillows with you!)  A beautiful restoration mixing period details & modern sensibilities: Hardwood floors throughout, white subway tile, low/no VOCs & non-toxic paints keep this home-away-from-home clean, smart and healthy. Radiant heat and oil radiators mean no blowing hot air or dust.  Great Amenities: Free WiFi & internet TV (LED flatscreen). Fully-equipped kitchen with stainless-steel appliances, sink & disposal. Large washer & dryer.  Iron/ironing board. Hairdryer. Plenty of storage. Convenient parking, both on- and off-street. The Best Location: Enjoy Seattle's celebrated Macrina bakery, neighborhood cafes, boutiqu   \n",
       "2  Our house is modern, light and fresh with a warm simple palette accented with barnwood, steel and concrete.  Open living spaces for entertaining, gourmet kitchen, deck off the kitchen, reading nook, half bath and smaller tv room off kitchen.  Fireplace with sofa and sitting area. Basement room is great for kids...this room has patio access and a garage door that opens into the space with basketball hoop right outside.  A queen bedroom and full bath are in the basement with concrete heated floors.  A queen sleeper sofa is in the tv area in the basement.  This room has a door if privacy is needed.  Great for a second family with kids.  The 2nd floor has 4 bedrooms (one queen in master, one twin bedroom, another bedroom has twin bunk beds and the last bedroom has a queen bed. Their are 2 full baths, both with double sinks on this floor(one in the master).  The 3rd floor is a very large deck, hot tub, kitchen prep area with fridge, lounge space for movies and 3/4 bath (rain head shower).     \n",
       "\n",
       "                                                                                                                                                                                                                                                                                                                                                                                                                                                                                                                                                                                                                                                                                                                                                                                                                                                                                                                                                                                                                                description  \\\n",
       "0  Make your self at home in this charming one-bedroom apartment, centrally-located on the west side of Queen Anne hill.   This elegantly-decorated, completely private apartment (bottom unit of a duplex) has an open floor plan, bamboo floors, a fully equipped kitchen, a TV,  DVD player, basic cable, and a very cozy bedroom with a queen-size bed. The unit sleeps up to four (two in the bedroom and two on the very comfortable fold out couch, linens included) and includes free WiFi and laundry. The apartment opens onto a private deck, complete with it's own BBQ, overlooking a garden and a forest of black bamboo.    The Apartment is perfectly-located just one block from the bus lines where you can catch a bus and be downtown Seattle in fifteen minutes or historic Ballard in ten or a quick five-minute walk will bring you to Whole Foods and Peet's Coffee or take a fifteen minute walk to the top of Queen Anne Hill where you will find a variety of eclectic shops, bars, and restaurants. There is no   \n",
       "1  Chemically sensitive? We've removed the irritants triggering allergy or asthma attacks, like carpeting, forced air & used pillows, all culprits that harbor fungus, mold & bacteria.  No smoking, no pets.  Designed for healthy living, so breathe easy. Beautiful, hypoallergenic apartment in an extremely safe, quiet and pedestrian-friendly section of Queen Anne.  A leafy-green location that puts the best of Seattle at your doorstep. Free WiFi, free parking, ...even free pillows!  What's special about this place? Hypo-allergenic bedding, mattresses/covers and new pillows with each rental. (So feel free to take your new pillows with you!)  A beautiful restoration mixing period details & modern sensibilities: Hardwood floors throughout, white subway tile, low/no VOCs & non-toxic paints keep this home-away-from-home clean, smart and healthy. Radiant heat and oil radiators mean no blowing hot air or dust.  Great Amenities: Free WiFi & internet TV (LED flatscreen). Fully-equipped kitchen with st   \n",
       "2  New modern house built in 2013.  Spectacular sunset/water views and light, rooftop deck and lounge area, hot tub, 5 bedrooms, gourmet kitchen.  Perfect for 2-3 families, walk to downtown.  Located in highly desirable Queen Anne neighborhood. Our house is modern, light and fresh with a warm simple palette accented with barnwood, steel and concrete.  Open living spaces for entertaining, gourmet kitchen, deck off the kitchen, reading nook, half bath and smaller tv room off kitchen.  Fireplace with sofa and sitting area. Basement room is great for kids...this room has patio access and a garage door that opens into the space with basketball hoop right outside.  A queen bedroom and full bath are in the basement with concrete heated floors.  A queen sleeper sofa is in the tv area in the basement.  This room has a door if privacy is needed.  Great for a second family with kids.  The 2nd floor has 4 bedrooms (one queen in master, one twin bedroom, another bedroom has twin bunk beds and the last   \n",
       "\n",
       "  experiences_offered  \\\n",
       "0  none                 \n",
       "1  none                 \n",
       "2  none                 \n",
       "\n",
       "                                                                                                                                                                                                                                                                                                                                                                                                                                                                                                                                                                                                                                                                           neighborhood_overview  \\\n",
       "0  NaN                                                                                                                                                                                                                                                                                                                                                                                                                                                                                                                                                                                                                                                                                             \n",
       "1  Queen Anne is a wonderful, truly functional village.  You can walk everywhere... for coffee, for groceries, for a night out, for breathtaking views of the Puget Sound.                                                                                                                                                                                                                                                                                                                                                                                                                                                                                                                         \n",
       "2  Upper Queen Anne is a charming neighborhood full of a mix of beautifully maintained, turn-of-the-century craftsman homes, tudors and modern homes.  The \"main drag\" is Queen Anne Ave. with a great selection of boutiques, restaurants, coffee shops and bars.  Upper Queen Anne is just 1.5 miles from downtown Seattle, and situated on a hilltop with stunning panoramic views in every direction -- downtown Seattle, the Space Needle and Mt. Rainier to the southeast, Elliott Bay to the southwest, the Olympic Mountains to the west and the Cascade Mountains to the east. If you're a walker, you'll love the 4-mile \"Crown of Queen Anne\" loop which takes in all of these views!   \n",
       "\n",
       "   ... review_scores_value requires_license license jurisdiction_names  \\\n",
       "0  ...  10.0                f               NaN      WASHINGTON          \n",
       "1  ...  10.0                f               NaN      WASHINGTON          \n",
       "2  ...  10.0                f               NaN      WASHINGTON          \n",
       "\n",
       "  instant_bookable cancellation_policy  require_guest_profile_picture  \\\n",
       "0  f                moderate            f                               \n",
       "1  f                strict              t                               \n",
       "2  f                strict              f                               \n",
       "\n",
       "  require_guest_phone_verification calculated_host_listings_count  \\\n",
       "0  f                                2                               \n",
       "1  t                                6                               \n",
       "2  f                                2                               \n",
       "\n",
       "  reviews_per_month  \n",
       "0  4.07              \n",
       "1  1.48              \n",
       "2  1.15              \n",
       "\n",
       "[3 rows x 92 columns]"
      ]
     },
     "execution_count": 145,
     "metadata": {},
     "output_type": "execute_result"
    }
   ],
   "source": [
    "listings.head(3)"
   ]
  },
  {
   "cell_type": "code",
   "execution_count": 146,
   "metadata": {},
   "outputs": [
    {
     "data": {
      "text/html": [
       "<div>\n",
       "<style scoped>\n",
       "    .dataframe tbody tr th:only-of-type {\n",
       "        vertical-align: middle;\n",
       "    }\n",
       "\n",
       "    .dataframe tbody tr th {\n",
       "        vertical-align: top;\n",
       "    }\n",
       "\n",
       "    .dataframe thead th {\n",
       "        text-align: right;\n",
       "    }\n",
       "</style>\n",
       "<table border=\"1\" class=\"dataframe\">\n",
       "  <thead>\n",
       "    <tr style=\"text-align: right;\">\n",
       "      <th></th>\n",
       "      <th>listing_id</th>\n",
       "      <th>id</th>\n",
       "      <th>date</th>\n",
       "      <th>reviewer_id</th>\n",
       "      <th>reviewer_name</th>\n",
       "      <th>comments</th>\n",
       "    </tr>\n",
       "  </thead>\n",
       "  <tbody>\n",
       "    <tr>\n",
       "      <th>0</th>\n",
       "      <td>7202016</td>\n",
       "      <td>38917982</td>\n",
       "      <td>2015-07-19</td>\n",
       "      <td>28943674</td>\n",
       "      <td>Bianca</td>\n",
       "      <td>Cute and cozy place. Perfect location to everything!</td>\n",
       "    </tr>\n",
       "    <tr>\n",
       "      <th>1</th>\n",
       "      <td>7202016</td>\n",
       "      <td>39087409</td>\n",
       "      <td>2015-07-20</td>\n",
       "      <td>32440555</td>\n",
       "      <td>Frank</td>\n",
       "      <td>Kelly has a great room in a very central location. \\r\\nBeautiful building , architecture and a style that we really like. \\r\\nWe felt guite at home here and wish we had spent more time.\\r\\nWent for a walk and found Seattle Center with a major food festival in progress. What a treat.\\r\\nVisited the Space Needle and the Chihuly Glass exhibit. Then Pikes Place Market. WOW.  Thanks for a great stay.</td>\n",
       "    </tr>\n",
       "    <tr>\n",
       "      <th>2</th>\n",
       "      <td>7202016</td>\n",
       "      <td>39820030</td>\n",
       "      <td>2015-07-26</td>\n",
       "      <td>37722850</td>\n",
       "      <td>Ian</td>\n",
       "      <td>Very spacious apartment, and in a great neighborhood.  This is the kind of apartment I wish I had!\\r\\n\\r\\nDidn't really get to meet Kelly until I was on my out, but she was always readily available by phone. \\r\\n\\r\\nI believe the only \"issue\" (if you want to call it that) was finding a place to park, but I sincerely doubt its easy to park anywhere in a residential area after 5 pm on a Friday</td>\n",
       "    </tr>\n",
       "  </tbody>\n",
       "</table>\n",
       "</div>"
      ],
      "text/plain": [
       "   listing_id        id        date  reviewer_id reviewer_name  \\\n",
       "0  7202016     38917982  2015-07-19  28943674     Bianca         \n",
       "1  7202016     39087409  2015-07-20  32440555     Frank          \n",
       "2  7202016     39820030  2015-07-26  37722850     Ian            \n",
       "\n",
       "                                                                                                                                                                                                                                                                                                                                                                                                         comments  \n",
       "0  Cute and cozy place. Perfect location to everything!                                                                                                                                                                                                                                                                                                                                                            \n",
       "1  Kelly has a great room in a very central location. \\r\\nBeautiful building , architecture and a style that we really like. \\r\\nWe felt guite at home here and wish we had spent more time.\\r\\nWent for a walk and found Seattle Center with a major food festival in progress. What a treat.\\r\\nVisited the Space Needle and the Chihuly Glass exhibit. Then Pikes Place Market. WOW.  Thanks for a great stay.  \n",
       "2  Very spacious apartment, and in a great neighborhood.  This is the kind of apartment I wish I had!\\r\\n\\r\\nDidn't really get to meet Kelly until I was on my out, but she was always readily available by phone. \\r\\n\\r\\nI believe the only \"issue\" (if you want to call it that) was finding a place to park, but I sincerely doubt its easy to park anywhere in a residential area after 5 pm on a Friday      "
      ]
     },
     "execution_count": 146,
     "metadata": {},
     "output_type": "execute_result"
    }
   ],
   "source": [
    "reviews.head(3)"
   ]
  },
  {
   "cell_type": "markdown",
   "metadata": {},
   "source": [
    "The `reviews` dataset doesn't have any quantifiable information that we can use to answer our questions. So, we won't consider the dataset at all.\n",
    "\n",
    "We will look at the `calendar` dataset first, and check the date range for our records."
   ]
  },
  {
   "cell_type": "code",
   "execution_count": 147,
   "metadata": {},
   "outputs": [
    {
     "name": "stdout",
     "output_type": "stream",
     "text": [
      "2016-01-04 2017-01-02\n"
     ]
    }
   ],
   "source": [
    "# print oldest and latest date from calendar\n",
    "\n",
    "print(min(calendar[\"date\"]), max(calendar[\"date\"]))"
   ]
  },
  {
   "cell_type": "markdown",
   "metadata": {},
   "source": [
    "So our data is from 4th January 2016, to 2nd January 2017. "
   ]
  },
  {
   "cell_type": "markdown",
   "metadata": {},
   "source": [
    "## Data Preparation\n",
    "\n",
    "We'll start exploring more of the datasets and prepare them to be able to effectively answer the questions we posed previously."
   ]
  },
  {
   "cell_type": "markdown",
   "metadata": {},
   "source": [
    "The `price` column has some NaNs. Let's check if they can be removed or if those are dependent on whether or not the listing is available."
   ]
  },
  {
   "cell_type": "code",
   "execution_count": 148,
   "metadata": {},
   "outputs": [
    {
     "name": "stdout",
     "output_type": "stream",
     "text": [
      "Empty DataFrame\n",
      "Columns: [listing_id, date, available, price]\n",
      "Index: []\n"
     ]
    }
   ],
   "source": [
    "# print number of NaN rows for `price` where `available` is `t`\n",
    "\n",
    "print(calendar[(calendar[\"price\"].isnull()) & (calendar[\"available\"] == 't')])"
   ]
  },
  {
   "cell_type": "markdown",
   "metadata": {},
   "source": [
    "So, the pricing is null when the listing is not available. We can then disregard the `available` column. Let's create a copy of the dataset and clean up based on what we have explored so far. We will also convert the `price` column into a float dtype, and the `date` column into datetime"
   ]
  },
  {
   "cell_type": "code",
   "execution_count": 149,
   "metadata": {},
   "outputs": [
    {
     "name": "stdout",
     "output_type": "stream",
     "text": [
      "   listing_id       date  price_dollars\n",
      "0  241032     2016-01-04  85.0         \n",
      "1  241032     2016-01-05  85.0         \n",
      "<class 'pandas.core.frame.DataFrame'>\n",
      "RangeIndex: 1393570 entries, 0 to 1393569\n",
      "Data columns (total 3 columns):\n",
      "listing_id       1393570 non-null int64\n",
      "date             1393570 non-null datetime64[ns]\n",
      "price_dollars    934542 non-null float64\n",
      "dtypes: datetime64[ns](1), float64(1), int64(1)\n",
      "memory usage: 31.9 MB\n"
     ]
    }
   ],
   "source": [
    "# create copy of dataset\n",
    "calendar_clean = calendar.copy()\n",
    "\n",
    "# drop column\n",
    "calendar_clean = calendar_clean.drop(columns=[\"available\"])\n",
    "\n",
    "# convert date column to datetime type\n",
    "calendar_clean[\"date\"]= pd.to_datetime(calendar_clean[\"date\"], format='%Y-%m-%d')\n",
    "\n",
    "# convert price from string to float\n",
    "calendar_clean[\"price\"] = calendar_clean[\"price\"].str.replace(\"$\",\"\").str.replace(\",\",\"\").astype(float)\n",
    "\n",
    "# rename price column name to price_dollars\n",
    "calendar_clean.rename(columns ={\"price\":\"price_dollars\"}, inplace=True)\n",
    "print(calendar_clean.head(2))\n",
    "calendar_clean.info()"
   ]
  },
  {
   "cell_type": "markdown",
   "metadata": {},
   "source": [
    "Let's check number of unique listings and also how many NaN prices there are. We can then decide to remove the NaN records accordingly"
   ]
  },
  {
   "cell_type": "code",
   "execution_count": 150,
   "metadata": {},
   "outputs": [
    {
     "name": "stdout",
     "output_type": "stream",
     "text": [
      "3818\n",
      "listing_id\n",
      "3335        365\n",
      "7483750     365\n",
      "7492006     365\n",
      "7492877     365\n",
      "7496485     365\n",
      "           ... \n",
      "4122325     365\n",
      "4125779     365\n",
      "4126284     365\n",
      "4104442     365\n",
      "10340165    365\n",
      "Length: 3818, dtype: int64\n",
      "False    934542\n",
      "True     459028\n",
      "Name: price_dollars, dtype: int64\n",
      "listing_id\n",
      "3335        56 \n",
      "4291        0  \n",
      "5682        56 \n",
      "6606        0  \n",
      "7369        312\n",
      "           ... \n",
      "10332096    0  \n",
      "10334184    4  \n",
      "10339144    365\n",
      "10339145    0  \n",
      "10340165    7  \n",
      "Length: 3818, dtype: int64\n"
     ]
    }
   ],
   "source": [
    "# unique listings \n",
    "print(calendar_clean[\"listing_id\"].unique().shape[0])\n",
    "\n",
    "# average listings per listing id\n",
    "print(calendar_clean.groupby(\"listing_id\").size().sort_values(ascending=True))\n",
    "\n",
    "# NaN prices\n",
    "print(calendar_clean[\"price_dollars\"].isnull().value_counts())\n",
    "\n",
    "# Number of NaN prices per listing id\n",
    "nan_price_per_listing = calendar_clean.groupby(\"listing_id\").apply(lambda x: x[\"price_dollars\"].isnull().sum())\n",
    "print(nan_price_per_listing)"
   ]
  },
  {
   "cell_type": "code",
   "execution_count": 151,
   "metadata": {},
   "outputs": [
    {
     "name": "stdout",
     "output_type": "stream",
     "text": [
      "listing_id\n",
      "7369        312\n",
      "9460        308\n",
      "53867       345\n",
      "107046      365\n",
      "107962      328\n",
      "           ... \n",
      "10250735    361\n",
      "10252110    346\n",
      "10299195    351\n",
      "10319529    364\n",
      "10339144    365\n",
      "Length: 480, dtype: int64\n"
     ]
    }
   ],
   "source": [
    "# listings with more than 300 missing prices\n",
    "print(nan_price_per_listing[nan_price_per_listing[nan_price_per_listing.index] > 300])"
   ]
  },
  {
   "cell_type": "markdown",
   "metadata": {},
   "source": [
    "So, each listing has records for each day of the year. There are some listings which don't have a price for most, if not all, days of the year (that is, they are unavailable). But even then, there are quite a lot of listings which are unavailable for large chunks of the year."
   ]
  },
  {
   "cell_type": "markdown",
   "metadata": {},
   "source": [
    "We create a new column in `calendar` that contains the month extracted from the date column. This will allow us to answer our first question."
   ]
  },
  {
   "cell_type": "code",
   "execution_count": 152,
   "metadata": {},
   "outputs": [],
   "source": [
    "# create new column to store month information\n",
    "calendar_clean[\"month\"] = calendar_clean[\"date\"].dt.month"
   ]
  },
  {
   "cell_type": "markdown",
   "metadata": {},
   "source": [
    "Next, we'll look at the `listings` dataset. That dataset has a total of 92 columns, and quite a few of them are not needed. We will begin by removing columns which - \n",
    "\n",
    "- contain descriptive text (like comments, and details about the neighborhood etc)\n",
    "- contain urls\n",
    "- are not required to answer our questions (like the geography-based columns)\n",
    "- contain a large number of null values"
   ]
  },
  {
   "cell_type": "code",
   "execution_count": 153,
   "metadata": {},
   "outputs": [
    {
     "name": "stdout",
     "output_type": "stream",
     "text": [
      "<class 'pandas.core.frame.DataFrame'>\n",
      "RangeIndex: 3818 entries, 0 to 3817\n",
      "Data columns (total 54 columns):\n",
      "id                                  3818 non-null int64\n",
      "transit                             2884 non-null object\n",
      "host_id                             3818 non-null int64\n",
      "host_since                          3816 non-null object\n",
      "host_response_time                  3295 non-null object\n",
      "host_response_rate                  3295 non-null object\n",
      "host_acceptance_rate                3045 non-null object\n",
      "host_is_superhost                   3816 non-null object\n",
      "host_neighbourhood                  3518 non-null object\n",
      "host_listings_count                 3816 non-null float64\n",
      "host_total_listings_count           3816 non-null float64\n",
      "host_verifications                  3818 non-null object\n",
      "host_has_profile_pic                3816 non-null object\n",
      "host_identity_verified              3816 non-null object\n",
      "market                              3818 non-null object\n",
      "smart_location                      3818 non-null object\n",
      "is_location_exact                   3818 non-null object\n",
      "property_type                       3817 non-null object\n",
      "room_type                           3818 non-null object\n",
      "accommodates                        3818 non-null int64\n",
      "bathrooms                           3802 non-null float64\n",
      "bedrooms                            3812 non-null float64\n",
      "beds                                3817 non-null float64\n",
      "bed_type                            3818 non-null object\n",
      "amenities                           3818 non-null object\n",
      "price                               3818 non-null object\n",
      "weekly_price                        2009 non-null object\n",
      "monthly_price                       1517 non-null object\n",
      "security_deposit                    1866 non-null object\n",
      "cleaning_fee                        2788 non-null object\n",
      "guests_included                     3818 non-null int64\n",
      "extra_people                        3818 non-null object\n",
      "minimum_nights                      3818 non-null int64\n",
      "maximum_nights                      3818 non-null int64\n",
      "has_availability                    3818 non-null object\n",
      "availability_30                     3818 non-null int64\n",
      "availability_60                     3818 non-null int64\n",
      "availability_90                     3818 non-null int64\n",
      "availability_365                    3818 non-null int64\n",
      "number_of_reviews                   3818 non-null int64\n",
      "review_scores_rating                3171 non-null float64\n",
      "review_scores_accuracy              3160 non-null float64\n",
      "review_scores_cleanliness           3165 non-null float64\n",
      "review_scores_checkin               3160 non-null float64\n",
      "review_scores_communication         3167 non-null float64\n",
      "review_scores_location              3163 non-null float64\n",
      "review_scores_value                 3162 non-null float64\n",
      "requires_license                    3818 non-null object\n",
      "instant_bookable                    3818 non-null object\n",
      "cancellation_policy                 3818 non-null object\n",
      "require_guest_profile_picture       3818 non-null object\n",
      "require_guest_phone_verification    3818 non-null object\n",
      "calculated_host_listings_count      3818 non-null int64\n",
      "reviews_per_month                   3191 non-null float64\n",
      "dtypes: float64(13), int64(12), object(29)\n",
      "memory usage: 1.6+ MB\n",
      "None\n"
     ]
    }
   ],
   "source": [
    "# create list of columns to drop\n",
    "listings_col_to_drop = [\"listing_url\", \"scrape_id\", \"last_scraped\", \"summary\", \"space\", \"description\", \n",
    "                        \"experiences_offered\", \"neighborhood_overview\", \"notes\", \"host_location\", \"host_about\",\n",
    "                        \"street\", \"city\", \"state\", \"zipcode\",\"neighbourhood\",\"neighbourhood_cleansed\",\n",
    "                        \"neighbourhood_group_cleansed\",\"first_review\",\"last_review\",\"host_name\",\n",
    "                        \"country_code\", \"country\", \"latitude\", \"longitude\",\"jurisdiction_names\",\n",
    "                        \"calendar_last_scraped\",\"calendar_updated\",\"name\"\n",
    "]\n",
    "\n",
    "# iterate over columns to identify url columns and add to above list\n",
    "\n",
    "for col in listings.columns:\n",
    "    if \"url\" in col:\n",
    "        listings_col_to_drop.append(col)\n",
    "        \n",
    "# remove columns with lots of null values\n",
    "listings_col_to_drop.append(\"square_feet\")\n",
    "listings_col_to_drop.append(\"license\")\n",
    "\n",
    "listings_clean = listings.drop(columns = listings_col_to_drop)\n",
    "\n",
    "print(listings_clean.info())\n"
   ]
  },
  {
   "cell_type": "markdown",
   "metadata": {},
   "source": [
    "Some columns above need to be converted from object (string) to integer or float to allow us to find correlation between the features in a better way. Most of these are related to `price`."
   ]
  },
  {
   "cell_type": "code",
   "execution_count": 154,
   "metadata": {},
   "outputs": [],
   "source": [
    "# convert string price related columns to float types\n",
    "listings_clean[\"price\"] = listings_clean[\"price\"].str.replace(\"$\",\"\").str.replace(\",\",\"\").astype(float)\n",
    "listings_clean[\"weekly_price\"] = listings_clean[\"weekly_price\"].str.replace(\"$\",\"\").str.replace(\",\",\"\").astype(float)\n",
    "listings_clean[\"monthly_price\"] = listings_clean[\"monthly_price\"].str.replace(\"$\",\"\").str.replace(\",\",\"\").astype(float)"
   ]
  },
  {
   "cell_type": "code",
   "execution_count": 155,
   "metadata": {},
   "outputs": [
    {
     "data": {
      "text/html": [
       "<div>\n",
       "<style scoped>\n",
       "    .dataframe tbody tr th:only-of-type {\n",
       "        vertical-align: middle;\n",
       "    }\n",
       "\n",
       "    .dataframe tbody tr th {\n",
       "        vertical-align: top;\n",
       "    }\n",
       "\n",
       "    .dataframe thead th {\n",
       "        text-align: right;\n",
       "    }\n",
       "</style>\n",
       "<table border=\"1\" class=\"dataframe\">\n",
       "  <thead>\n",
       "    <tr style=\"text-align: right;\">\n",
       "      <th></th>\n",
       "      <th>id</th>\n",
       "      <th>transit</th>\n",
       "      <th>host_id</th>\n",
       "      <th>host_since</th>\n",
       "      <th>host_response_time</th>\n",
       "      <th>host_response_rate</th>\n",
       "      <th>host_acceptance_rate</th>\n",
       "      <th>host_is_superhost</th>\n",
       "      <th>host_neighbourhood</th>\n",
       "      <th>host_listings_count</th>\n",
       "      <th>...</th>\n",
       "      <th>review_scores_communication</th>\n",
       "      <th>review_scores_location</th>\n",
       "      <th>review_scores_value</th>\n",
       "      <th>requires_license</th>\n",
       "      <th>instant_bookable</th>\n",
       "      <th>cancellation_policy</th>\n",
       "      <th>require_guest_profile_picture</th>\n",
       "      <th>require_guest_phone_verification</th>\n",
       "      <th>calculated_host_listings_count</th>\n",
       "      <th>reviews_per_month</th>\n",
       "    </tr>\n",
       "  </thead>\n",
       "  <tbody>\n",
       "    <tr>\n",
       "      <th>0</th>\n",
       "      <td>241032</td>\n",
       "      <td>NaN</td>\n",
       "      <td>956883</td>\n",
       "      <td>2011-08-11</td>\n",
       "      <td>within a few hours</td>\n",
       "      <td>96%</td>\n",
       "      <td>100%</td>\n",
       "      <td>f</td>\n",
       "      <td>Queen Anne</td>\n",
       "      <td>3.0</td>\n",
       "      <td>...</td>\n",
       "      <td>10.0</td>\n",
       "      <td>9.0</td>\n",
       "      <td>10.0</td>\n",
       "      <td>f</td>\n",
       "      <td>f</td>\n",
       "      <td>moderate</td>\n",
       "      <td>f</td>\n",
       "      <td>f</td>\n",
       "      <td>2</td>\n",
       "      <td>4.07</td>\n",
       "    </tr>\n",
       "  </tbody>\n",
       "</table>\n",
       "<p>1 rows × 54 columns</p>\n",
       "</div>"
      ],
      "text/plain": [
       "       id transit  host_id  host_since  host_response_time host_response_rate  \\\n",
       "0  241032  NaN     956883   2011-08-11  within a few hours  96%                 \n",
       "\n",
       "  host_acceptance_rate host_is_superhost host_neighbourhood  \\\n",
       "0  100%                 f                 Queen Anne          \n",
       "\n",
       "   host_listings_count  ...  review_scores_communication  \\\n",
       "0  3.0                  ...  10.0                          \n",
       "\n",
       "  review_scores_location review_scores_value requires_license  \\\n",
       "0  9.0                    10.0                f                 \n",
       "\n",
       "  instant_bookable cancellation_policy require_guest_profile_picture  \\\n",
       "0  f                moderate            f                              \n",
       "\n",
       "  require_guest_phone_verification calculated_host_listings_count  \\\n",
       "0  f                                2                               \n",
       "\n",
       "   reviews_per_month  \n",
       "0  4.07               \n",
       "\n",
       "[1 rows x 54 columns]"
      ]
     },
     "execution_count": 155,
     "metadata": {},
     "output_type": "execute_result"
    }
   ],
   "source": [
    "listings_clean.head(1)"
   ]
  },
  {
   "cell_type": "markdown",
   "metadata": {},
   "source": [
    "Eventually, we wish to find the correlation between prices and amenities. However, the `amenities` column consists of strings of amenities offered at the listing."
   ]
  },
  {
   "cell_type": "code",
   "execution_count": 156,
   "metadata": {},
   "outputs": [
    {
     "data": {
      "text/plain": [
       "1    {TV,Internet,\"Wireless Internet\",Kitchen,\"Free Parking on Premises\",\"Buzzer/Wireless Intercom\",Heating,\"Family/Kid Friendly\",Washer,Dryer,\"Smoke Detector\",\"Carbon Monoxide Detector\",\"First Aid Kit\",\"Safety Card\",\"Fire Extinguisher\",Essentials}                                                \n",
       "2    {TV,\"Cable TV\",Internet,\"Wireless Internet\",\"Air Conditioning\",Kitchen,\"Free Parking on Premises\",\"Pets Allowed\",\"Pets live on this property\",Dog(s),Cat(s),\"Hot Tub\",\"Indoor Fireplace\",Heating,\"Family/Kid Friendly\",Washer,Dryer,\"Smoke Detector\",\"Carbon Monoxide Detector\",Essentials,Shampoo}\n",
       "3    {Internet,\"Wireless Internet\",Kitchen,\"Indoor Fireplace\",Heating,\"Family/Kid Friendly\",Washer,Dryer,\"Smoke Detector\",\"Carbon Monoxide Detector\",\"Safety Card\",\"Fire Extinguisher\",Essentials,Shampoo}                                                                                              \n",
       "4    {TV,\"Cable TV\",Internet,\"Wireless Internet\",Kitchen,Heating,\"Family/Kid Friendly\",\"Smoke Detector\",\"Carbon Monoxide Detector\",\"First Aid Kit\",\"Fire Extinguisher\",Essentials,Shampoo}                                                                                                              \n",
       "Name: amenities, dtype: object"
      ]
     },
     "execution_count": 156,
     "metadata": {},
     "output_type": "execute_result"
    }
   ],
   "source": [
    "# set pandas option to display entire column width\n",
    "pd.set_option('display.max_colwidth', -1)\n",
    "listings_clean.loc[1:4,\"amenities\"]"
   ]
  },
  {
   "cell_type": "markdown",
   "metadata": {},
   "source": [
    "Each listing has a variable number of amenities. We will extract these amenities and create separate columns for each indicating whether or not that amenity is present for that listing or not.\n",
    "\n",
    "First, we will conver the strings into a list of the amenities. And then we will extract all the unique amenities from the `amenities` column."
   ]
  },
  {
   "cell_type": "code",
   "execution_count": 157,
   "metadata": {},
   "outputs": [
    {
     "name": "stdout",
     "output_type": "stream",
     "text": [
      "{'Heating', 'Cable TV', 'Suitable for Events', '', '24-Hour Check-in', 'Kitchen', 'Pool', 'TV', 'Pets live on this property', 'Breakfast', 'Iron', 'Shampoo', 'Elevator in Building', 'Air Conditioning', 'Washer', 'Wheelchair Accessible', 'Gym', 'Hangers', 'Essentials', 'Laptop Friendly Workspace', 'Buzzer/Wireless Intercom', 'Doorman', 'Pets Allowed', 'Dog(s)', 'Smoking Allowed', 'First Aid Kit', 'Safety Card', 'Wireless Internet', 'Fire Extinguisher', 'Hot Tub', 'Dryer', 'Smoke Detector', 'Other pet(s)', 'Washer / Dryer', 'Lock on Bedroom Door', 'Hair Dryer', 'Internet', 'Indoor Fireplace', 'Cat(s)', 'Family/Kid Friendly', 'Free Parking on Premises', 'Carbon Monoxide Detector'}\n",
      "42\n"
     ]
    }
   ],
   "source": [
    "# convert string for each row into a list of the items in the string.\n",
    "\n",
    "amenities_lst = []\n",
    "for row in listings_clean[\"amenities\"]:\n",
    "    row=row.replace(\"{\",\"\")\n",
    "    row=row.replace(\"}\",\"\")\n",
    "    row=row.replace(\"\\\"\",\"\")\n",
    "    amenities_lst.append(row.split(\",\"))\n",
    "\n",
    "# extract unique amenities\n",
    "unique_amenities = set()\n",
    "for items in amenities_lst:\n",
    "    for item in items:\n",
    "        unique_amenities.add(item)\n",
    "print(unique_amenities)\n",
    "print(len(unique_amenities))"
   ]
  },
  {
   "cell_type": "markdown",
   "metadata": {},
   "source": [
    "There are quite a few unique amenities. We will create new columns for each of the above, where the rows will indicate whether the amenity is present for a particular listing (1) or not (0)."
   ]
  },
  {
   "cell_type": "code",
   "execution_count": 158,
   "metadata": {},
   "outputs": [
    {
     "data": {
      "text/html": [
       "<div>\n",
       "<style scoped>\n",
       "    .dataframe tbody tr th:only-of-type {\n",
       "        vertical-align: middle;\n",
       "    }\n",
       "\n",
       "    .dataframe tbody tr th {\n",
       "        vertical-align: top;\n",
       "    }\n",
       "\n",
       "    .dataframe thead th {\n",
       "        text-align: right;\n",
       "    }\n",
       "</style>\n",
       "<table border=\"1\" class=\"dataframe\">\n",
       "  <thead>\n",
       "    <tr style=\"text-align: right;\">\n",
       "      <th></th>\n",
       "      <th>id</th>\n",
       "      <th>transit</th>\n",
       "      <th>host_id</th>\n",
       "      <th>host_since</th>\n",
       "      <th>host_response_time</th>\n",
       "      <th>host_response_rate</th>\n",
       "      <th>host_acceptance_rate</th>\n",
       "      <th>host_is_superhost</th>\n",
       "      <th>host_neighbourhood</th>\n",
       "      <th>host_listings_count</th>\n",
       "      <th>...</th>\n",
       "      <th>Other pet(s)</th>\n",
       "      <th>Washer / Dryer</th>\n",
       "      <th>Lock on Bedroom Door</th>\n",
       "      <th>Hair Dryer</th>\n",
       "      <th>Internet</th>\n",
       "      <th>Indoor Fireplace</th>\n",
       "      <th>Cat(s)</th>\n",
       "      <th>Family/Kid Friendly</th>\n",
       "      <th>Free Parking on Premises</th>\n",
       "      <th>Carbon Monoxide Detector</th>\n",
       "    </tr>\n",
       "  </thead>\n",
       "  <tbody>\n",
       "    <tr>\n",
       "      <th>0</th>\n",
       "      <td>241032</td>\n",
       "      <td>NaN</td>\n",
       "      <td>956883</td>\n",
       "      <td>2011-08-11</td>\n",
       "      <td>within a few hours</td>\n",
       "      <td>96%</td>\n",
       "      <td>100%</td>\n",
       "      <td>f</td>\n",
       "      <td>Queen Anne</td>\n",
       "      <td>3.0</td>\n",
       "      <td>...</td>\n",
       "      <td>0.0</td>\n",
       "      <td>0.0</td>\n",
       "      <td>0.0</td>\n",
       "      <td>0.0</td>\n",
       "      <td>1.0</td>\n",
       "      <td>0.0</td>\n",
       "      <td>0.0</td>\n",
       "      <td>1.0</td>\n",
       "      <td>0.0</td>\n",
       "      <td>0.0</td>\n",
       "    </tr>\n",
       "  </tbody>\n",
       "</table>\n",
       "<p>1 rows × 96 columns</p>\n",
       "</div>"
      ],
      "text/plain": [
       "       id transit  host_id  host_since  host_response_time host_response_rate  \\\n",
       "0  241032  NaN     956883   2011-08-11  within a few hours  96%                 \n",
       "\n",
       "  host_acceptance_rate host_is_superhost host_neighbourhood  \\\n",
       "0  100%                 f                 Queen Anne          \n",
       "\n",
       "   host_listings_count  ...  Other pet(s) Washer / Dryer Lock on Bedroom Door  \\\n",
       "0  3.0                  ...  0.0           0.0            0.0                   \n",
       "\n",
       "  Hair Dryer Internet Indoor Fireplace Cat(s) Family/Kid Friendly  \\\n",
       "0  0.0        1.0      0.0              0.0    1.0                  \n",
       "\n",
       "  Free Parking on Premises  Carbon Monoxide Detector  \n",
       "0  0.0                      0.0                       \n",
       "\n",
       "[1 rows x 96 columns]"
      ]
     },
     "execution_count": 158,
     "metadata": {},
     "output_type": "execute_result"
    }
   ],
   "source": [
    "# Personal ToDo - Find a more efficient way to implement the following\n",
    "for idx,row in enumerate(amenities_lst):\n",
    "    for amenity in unique_amenities:\n",
    "        if amenity in row:\n",
    "            listings_clean.loc[idx, amenity] = 1\n",
    "        else:\n",
    "            listings_clean.loc[idx, amenity] = 0\n",
    "\n",
    "listings_clean.head(1)"
   ]
  },
  {
   "cell_type": "markdown",
   "metadata": {},
   "source": [
    "Now that we have amenities as their own columns, we can use them to find correlation with price."
   ]
  },
  {
   "cell_type": "markdown",
   "metadata": {},
   "source": [
    "Next, we will look at property types and check if there is any problem with the data corresponding to each types or not."
   ]
  },
  {
   "cell_type": "code",
   "execution_count": 159,
   "metadata": {},
   "outputs": [
    {
     "data": {
      "text/plain": [
       "count     3817 \n",
       "unique    16   \n",
       "top       House\n",
       "freq      1733 \n",
       "Name: property_type, dtype: object"
      ]
     },
     "execution_count": 159,
     "metadata": {},
     "output_type": "execute_result"
    }
   ],
   "source": [
    "listings_clean[\"property_type\"].describe()"
   ]
  },
  {
   "cell_type": "code",
   "execution_count": 160,
   "metadata": {},
   "outputs": [
    {
     "data": {
      "text/plain": [
       "<matplotlib.axes._subplots.AxesSubplot at 0x1689090edd8>"
      ]
     },
     "execution_count": 160,
     "metadata": {},
     "output_type": "execute_result"
    },
    {
     "data": {
      "image/png": "[encoded data removed]",
      "text/plain": [
       "<Figure size 720x576 with 1 Axes>"
      ]
     },
     "metadata": {
      "needs_background": "light"
     },
     "output_type": "display_data"
    }
   ],
   "source": [
    "#listings_clean.groupby(\"property_type\")[\"price\"].mean().sort_values(ascending=False).plot.bar()\n",
    "listings_clean.boxplot(\"price\", by = \"property_type\", showfliers=False, rot=45, figsize=(10,8), grid = False)"
   ]
  },
  {
   "cell_type": "markdown",
   "metadata": {},
   "source": [
    "There are some properties that don't have many records associated with them. We will check the number of records for each and then drop those rows accordingly."
   ]
  },
  {
   "cell_type": "code",
   "execution_count": 167,
   "metadata": {},
   "outputs": [
    {
     "name": "stdout",
     "output_type": "stream",
     "text": [
      "Dorm Rows:  2\n",
      "Tent Rows:  5\n",
      "Yurt Rows:  1\n"
     ]
    },
    {
     "data": {
      "text/plain": [
       "array(['Apartment', 'House', 'Cabin', 'Condominium', 'Camper/RV',\n",
       "       'Bungalow', 'Townhouse', 'Loft', 'Boat', 'Bed & Breakfast',\n",
       "       'Other', 'Treehouse', 'Chalet', nan], dtype=object)"
      ]
     },
     "execution_count": 167,
     "metadata": {},
     "output_type": "execute_result"
    }
   ],
   "source": [
    "# count number of rows for Dorm, Tent, and Yurt property types\n",
    "print(\"Dorm Rows: \", listings_clean[listings_clean[\"property_type\"] == \"Dorm\"].shape[0])\n",
    "print(\"Tent Rows: \", listings_clean[listings_clean[\"property_type\"] == \"Tent\"].shape[0])\n",
    "print(\"Yurt Rows: \", listings_clean[listings_clean[\"property_type\"] == \"Yurt\"].shape[0])\n",
    "\n",
    "# drop rows corresponding to the above 3\n",
    "\n",
    "listings_clean.drop(listings_clean[listings_clean[\"property_type\"] == \"Dorm\"].index, inplace=True)\n",
    "listings_clean.drop(listings_clean[listings_clean[\"property_type\"] == \"Tent\"].index, inplace=True)\n",
    "listings_clean.drop(listings_clean[listings_clean[\"property_type\"] == \"Yurt\"].index, inplace=True)\n",
    "\n",
    "listings_clean[\"property_type\"].unique()"
   ]
  },
  {
   "cell_type": "markdown",
   "metadata": {},
   "source": [
    "There are still rows with NaN values. Let's check how many"
   ]
  },
  {
   "cell_type": "code",
   "execution_count": 184,
   "metadata": {},
   "outputs": [
    {
     "name": "stdout",
     "output_type": "stream",
     "text": [
      "Number of NaNs:  0\n"
     ]
    },
    {
     "data": {
      "text/plain": [
       "array(['Apartment', 'House', 'Cabin', 'Condominium', 'Camper/RV',\n",
       "       'Bungalow', 'Townhouse', 'Loft', 'Boat', 'Bed & Breakfast',\n",
       "       'Other', 'Treehouse', 'Chalet'], dtype=object)"
      ]
     },
     "execution_count": 184,
     "metadata": {},
     "output_type": "execute_result"
    }
   ],
   "source": [
    "print(\"Number of NaNs: \", listings_clean[listings_clean[\"property_type\"].isnull()].shape[0])\n",
    "\n",
    "# drop the row\n",
    "listings_clean.dropna(subset = [\"property_type\"], inplace = True)\n",
    "\n",
    "listings_clean[\"property_type\"].unique()\n"
   ]
  },
  {
   "cell_type": "markdown",
   "metadata": {},
   "source": [
    "## Answering Business Questions\n",
    "\n",
    "### 1. What is the average price of the listings in Seattle each month?\n",
    "\n",
    "We previously identified that there were listings that were unavailable and therefore their prices were not available as well. So, for this question, we will not count the NaN prices for those listings."
   ]
  },
  {
   "cell_type": "code",
   "execution_count": 36,
   "metadata": {},
   "outputs": [
    {
     "data": {
      "image/png": "[encoded data removed]",
      "text/plain": [
       "<Figure size 432x288 with 1 Axes>"
      ]
     },
     "metadata": {
      "needs_background": "light"
     },
     "output_type": "display_data"
    }
   ],
   "source": [
    "calendar_clean.groupby(\"month\")[\"price_dollars\"].mean().plot.bar()\n",
    "plt.xlabel(\"Month\")\n",
    "plt.ylabel(\"Average Price (Dollars)\")\n",
    "plt.title(\"Average Price of all Available Listings per Month\");"
   ]
  },
  {
   "cell_type": "markdown",
   "metadata": {},
   "source": [
    "So, we see the average price of the listings being higher during the Summer-Fall months."
   ]
  },
  {
   "cell_type": "markdown",
   "metadata": {},
   "source": [
    "### 2. What is the correlation between price of a listing, the amenities/services that listing offers, and the reviews of that listing?\n"
   ]
  },
  {
   "cell_type": "markdown",
   "metadata": {},
   "source": [
    "So, we will use specific columns from the `listings_clean` dataset to find this correlation."
   ]
  },
  {
   "cell_type": "code",
   "execution_count": 89,
   "metadata": {},
   "outputs": [
    {
     "name": "stdout",
     "output_type": "stream",
     "text": [
      "<class 'pandas.core.frame.DataFrame'>\n",
      "RangeIndex: 3818 entries, 0 to 3817\n",
      "Data columns (total 96 columns):\n",
      "id                                  3818 non-null int64\n",
      "transit                             2884 non-null object\n",
      "host_id                             3818 non-null int64\n",
      "host_since                          3816 non-null object\n",
      "host_response_time                  3295 non-null object\n",
      "host_response_rate                  3295 non-null object\n",
      "host_acceptance_rate                3045 non-null object\n",
      "host_is_superhost                   3816 non-null object\n",
      "host_neighbourhood                  3518 non-null object\n",
      "host_listings_count                 3816 non-null float64\n",
      "host_total_listings_count           3816 non-null float64\n",
      "host_verifications                  3818 non-null object\n",
      "host_has_profile_pic                3816 non-null object\n",
      "host_identity_verified              3816 non-null object\n",
      "market                              3818 non-null object\n",
      "smart_location                      3818 non-null object\n",
      "is_location_exact                   3818 non-null object\n",
      "property_type                       3817 non-null object\n",
      "room_type                           3818 non-null object\n",
      "accommodates                        3818 non-null int64\n",
      "bathrooms                           3802 non-null float64\n",
      "bedrooms                            3812 non-null float64\n",
      "beds                                3817 non-null float64\n",
      "bed_type                            3818 non-null object\n",
      "amenities                           3818 non-null object\n",
      "price                               3818 non-null float64\n",
      "weekly_price                        2009 non-null float64\n",
      "monthly_price                       1517 non-null float64\n",
      "security_deposit                    1866 non-null object\n",
      "cleaning_fee                        2788 non-null object\n",
      "guests_included                     3818 non-null int64\n",
      "extra_people                        3818 non-null object\n",
      "minimum_nights                      3818 non-null int64\n",
      "maximum_nights                      3818 non-null int64\n",
      "has_availability                    3818 non-null object\n",
      "availability_30                     3818 non-null int64\n",
      "availability_60                     3818 non-null int64\n",
      "availability_90                     3818 non-null int64\n",
      "availability_365                    3818 non-null int64\n",
      "number_of_reviews                   3818 non-null int64\n",
      "review_scores_rating                3171 non-null float64\n",
      "review_scores_accuracy              3160 non-null float64\n",
      "review_scores_cleanliness           3165 non-null float64\n",
      "review_scores_checkin               3160 non-null float64\n",
      "review_scores_communication         3167 non-null float64\n",
      "review_scores_location              3163 non-null float64\n",
      "review_scores_value                 3162 non-null float64\n",
      "requires_license                    3818 non-null object\n",
      "instant_bookable                    3818 non-null object\n",
      "cancellation_policy                 3818 non-null object\n",
      "require_guest_profile_picture       3818 non-null object\n",
      "require_guest_phone_verification    3818 non-null object\n",
      "calculated_host_listings_count      3818 non-null int64\n",
      "reviews_per_month                   3191 non-null float64\n",
      "Heating                             3818 non-null float64\n",
      "Cable TV                            3818 non-null float64\n",
      "Suitable for Events                 3818 non-null float64\n",
      "                                    3818 non-null float64\n",
      "24-Hour Check-in                    3818 non-null float64\n",
      "Kitchen                             3818 non-null float64\n",
      "Pool                                3818 non-null float64\n",
      "TV                                  3818 non-null float64\n",
      "Pets live on this property          3818 non-null float64\n",
      "Breakfast                           3818 non-null float64\n",
      "Iron                                3818 non-null float64\n",
      "Shampoo                             3818 non-null float64\n",
      "Elevator in Building                3818 non-null float64\n",
      "Air Conditioning                    3818 non-null float64\n",
      "Washer                              3818 non-null float64\n",
      "Wheelchair Accessible               3818 non-null float64\n",
      "Gym                                 3818 non-null float64\n",
      "Hangers                             3818 non-null float64\n",
      "Essentials                          3818 non-null float64\n",
      "Laptop Friendly Workspace           3818 non-null float64\n",
      "Buzzer/Wireless Intercom            3818 non-null float64\n",
      "Doorman                             3818 non-null float64\n",
      "Pets Allowed                        3818 non-null float64\n",
      "Dog(s)                              3818 non-null float64\n",
      "Smoking Allowed                     3818 non-null float64\n",
      "First Aid Kit                       3818 non-null float64\n",
      "Safety Card                         3818 non-null float64\n",
      "Wireless Internet                   3818 non-null float64\n",
      "Fire Extinguisher                   3818 non-null float64\n",
      "Hot Tub                             3818 non-null float64\n",
      "Dryer                               3818 non-null float64\n",
      "Smoke Detector                      3818 non-null float64\n",
      "Other pet(s)                        3818 non-null float64\n",
      "Washer / Dryer                      3818 non-null float64\n",
      "Lock on Bedroom Door                3818 non-null float64\n",
      "Hair Dryer                          3818 non-null float64\n",
      "Internet                            3818 non-null float64\n",
      "Indoor Fireplace                    3818 non-null float64\n",
      "Cat(s)                              3818 non-null float64\n",
      "Family/Kid Friendly                 3818 non-null float64\n",
      "Free Parking on Premises            3818 non-null float64\n",
      "Carbon Monoxide Detector            3818 non-null float64\n",
      "dtypes: float64(58), int64(12), object(26)\n",
      "memory usage: 2.8+ MB\n"
     ]
    }
   ],
   "source": [
    "listings_clean.info()"
   ]
  },
  {
   "cell_type": "markdown",
   "metadata": {},
   "source": [
    "Based on the above, we won't be considering all price-related columns because of significant missing values."
   ]
  },
  {
   "cell_type": "code",
   "execution_count": 114,
   "metadata": {},
   "outputs": [
    {
     "name": "stdout",
     "output_type": "stream",
     "text": [
      "<class 'pandas.core.frame.DataFrame'>\n",
      "RangeIndex: 3818 entries, 0 to 3817\n",
      "Data columns (total 48 columns):\n",
      "price                         3818 non-null float64\n",
      "bathrooms                     3802 non-null float64\n",
      "bedrooms                      3812 non-null float64\n",
      "beds                          3817 non-null float64\n",
      "number_of_reviews             3818 non-null int64\n",
      "review_scores_rating          3171 non-null float64\n",
      "review_scores_value           3162 non-null float64\n",
      "Heating                       3818 non-null float64\n",
      "Cable TV                      3818 non-null float64\n",
      "Suitable for Events           3818 non-null float64\n",
      "24-Hour Check-in              3818 non-null float64\n",
      "Kitchen                       3818 non-null float64\n",
      "Pool                          3818 non-null float64\n",
      "TV                            3818 non-null float64\n",
      "Pets live on this property    3818 non-null float64\n",
      "Breakfast                     3818 non-null float64\n",
      "Iron                          3818 non-null float64\n",
      "Shampoo                       3818 non-null float64\n",
      "Elevator in Building          3818 non-null float64\n",
      "Air Conditioning              3818 non-null float64\n",
      "Washer                        3818 non-null float64\n",
      "Wheelchair Accessible         3818 non-null float64\n",
      "Gym                           3818 non-null float64\n",
      "Hangers                       3818 non-null float64\n",
      "Essentials                    3818 non-null float64\n",
      "Laptop Friendly Workspace     3818 non-null float64\n",
      "Buzzer/Wireless Intercom      3818 non-null float64\n",
      "Doorman                       3818 non-null float64\n",
      "Pets Allowed                  3818 non-null float64\n",
      "Dog(s)                        3818 non-null float64\n",
      "Smoking Allowed               3818 non-null float64\n",
      "First Aid Kit                 3818 non-null float64\n",
      "Safety Card                   3818 non-null float64\n",
      "Wireless Internet             3818 non-null float64\n",
      "Fire Extinguisher             3818 non-null float64\n",
      "Hot Tub                       3818 non-null float64\n",
      "Dryer                         3818 non-null float64\n",
      "Smoke Detector                3818 non-null float64\n",
      "Other pet(s)                  3818 non-null float64\n",
      "Washer / Dryer                3818 non-null float64\n",
      "Lock on Bedroom Door          3818 non-null float64\n",
      "Hair Dryer                    3818 non-null float64\n",
      "Internet                      3818 non-null float64\n",
      "Indoor Fireplace              3818 non-null float64\n",
      "Cat(s)                        3818 non-null float64\n",
      "Family/Kid Friendly           3818 non-null float64\n",
      "Free Parking on Premises      3818 non-null float64\n",
      "Carbon Monoxide Detector      3818 non-null float64\n",
      "dtypes: float64(47), int64(1)\n",
      "memory usage: 1.4 MB\n",
      "None\n"
     ]
    },
    {
     "data": {
      "text/html": [
       "<div>\n",
       "<style scoped>\n",
       "    .dataframe tbody tr th:only-of-type {\n",
       "        vertical-align: middle;\n",
       "    }\n",
       "\n",
       "    .dataframe tbody tr th {\n",
       "        vertical-align: top;\n",
       "    }\n",
       "\n",
       "    .dataframe thead th {\n",
       "        text-align: right;\n",
       "    }\n",
       "</style>\n",
       "<table border=\"1\" class=\"dataframe\">\n",
       "  <thead>\n",
       "    <tr style=\"text-align: right;\">\n",
       "      <th></th>\n",
       "      <th>price</th>\n",
       "      <th>bathrooms</th>\n",
       "      <th>bedrooms</th>\n",
       "      <th>beds</th>\n",
       "      <th>number_of_reviews</th>\n",
       "      <th>review_scores_rating</th>\n",
       "      <th>review_scores_value</th>\n",
       "      <th>Heating</th>\n",
       "      <th>Cable TV</th>\n",
       "      <th>Suitable for Events</th>\n",
       "      <th>...</th>\n",
       "      <th>Other pet(s)</th>\n",
       "      <th>Washer / Dryer</th>\n",
       "      <th>Lock on Bedroom Door</th>\n",
       "      <th>Hair Dryer</th>\n",
       "      <th>Internet</th>\n",
       "      <th>Indoor Fireplace</th>\n",
       "      <th>Cat(s)</th>\n",
       "      <th>Family/Kid Friendly</th>\n",
       "      <th>Free Parking on Premises</th>\n",
       "      <th>Carbon Monoxide Detector</th>\n",
       "    </tr>\n",
       "  </thead>\n",
       "  <tbody>\n",
       "    <tr>\n",
       "      <th>0</th>\n",
       "      <td>85.0</td>\n",
       "      <td>1.0</td>\n",
       "      <td>1.0</td>\n",
       "      <td>1.0</td>\n",
       "      <td>207</td>\n",
       "      <td>95.0</td>\n",
       "      <td>10.0</td>\n",
       "      <td>1.0</td>\n",
       "      <td>1.0</td>\n",
       "      <td>0.0</td>\n",
       "      <td>...</td>\n",
       "      <td>0.0</td>\n",
       "      <td>0.0</td>\n",
       "      <td>0.0</td>\n",
       "      <td>0.0</td>\n",
       "      <td>1.0</td>\n",
       "      <td>0.0</td>\n",
       "      <td>0.0</td>\n",
       "      <td>1.0</td>\n",
       "      <td>0.0</td>\n",
       "      <td>0.0</td>\n",
       "    </tr>\n",
       "  </tbody>\n",
       "</table>\n",
       "<p>1 rows × 48 columns</p>\n",
       "</div>"
      ],
      "text/plain": [
       "   price  bathrooms  bedrooms  beds  number_of_reviews  review_scores_rating  \\\n",
       "0  85.0   1.0        1.0       1.0   207                95.0                   \n",
       "\n",
       "   review_scores_value  Heating  Cable TV  Suitable for Events  ...  \\\n",
       "0  10.0                 1.0      1.0       0.0                  ...   \n",
       "\n",
       "   Other pet(s)  Washer / Dryer  Lock on Bedroom Door  Hair Dryer  Internet  \\\n",
       "0  0.0           0.0             0.0                   0.0         1.0        \n",
       "\n",
       "   Indoor Fireplace  Cat(s)  Family/Kid Friendly  Free Parking on Premises  \\\n",
       "0  0.0               0.0     1.0                  0.0                        \n",
       "\n",
       "   Carbon Monoxide Detector  \n",
       "0  0.0                       \n",
       "\n",
       "[1 rows x 48 columns]"
      ]
     },
     "execution_count": 114,
     "metadata": {},
     "output_type": "execute_result"
    }
   ],
   "source": [
    "corr_columns = [\"price\",\"bathrooms\",\"bedrooms\",\"beds\",\n",
    "                             \"number_of_reviews\",\"review_scores_rating\", \"review_scores_value\"]\n",
    "\n",
    "# add amenities columns\n",
    "unique_amenities_lst = list(unique_amenities)\n",
    "corr_columns.extend(unique_amenities_lst)\n",
    "price_corr = listings_clean[corr_columns]\n",
    "price_corr = price_corr.drop(columns=[\"\"])\n",
    "\n",
    "print(price_corr.info())\n",
    "price_corr.head(1)"
   ]
  },
  {
   "cell_type": "code",
   "execution_count": 115,
   "metadata": {},
   "outputs": [
    {
     "data": {
      "text/plain": [
       "<matplotlib.axes._subplots.AxesSubplot at 0x1688b32c6a0>"
      ]
     },
     "execution_count": 115,
     "metadata": {},
     "output_type": "execute_result"
    },
    {
     "data": {
      "image/png": "[encoded data removed]",
      "text/plain": [
       "<Figure size 1152x864 with 2 Axes>"
      ]
     },
     "metadata": {
      "needs_background": "light"
     },
     "output_type": "display_data"
    }
   ],
   "source": [
    "# plot heatmap\n",
    "fig, ax = plt.subplots(figsize=(16,12))\n",
    "sb.heatmap(price_corr.corr())"
   ]
  },
  {
   "cell_type": "code",
   "execution_count": 116,
   "metadata": {},
   "outputs": [
    {
     "data": {
      "text/plain": [
       "price                  1.000000\n",
       "bedrooms               0.627720\n",
       "beds                   0.589525\n",
       "bathrooms              0.516424\n",
       "Family/Kid Friendly    0.259901\n",
       "Cable TV               0.237309\n",
       "TV                     0.205824\n",
       "Indoor Fireplace       0.148466\n",
       "Air Conditioning       0.130271\n",
       "Hot Tub                0.127066\n",
       "Name: price, dtype: float64"
      ]
     },
     "execution_count": 116,
     "metadata": {},
     "output_type": "execute_result"
    }
   ],
   "source": [
    "# Printing out the top 10 (including price) variables positively correlated with price\n",
    "price_corr.corr()[\"price\"].sort_values(ascending=False).nlargest(10)"
   ]
  },
  {
   "cell_type": "markdown",
   "metadata": {},
   "source": [
    "There are some strong positive correlations between the price and the number of bathrooms, bedrooms, and beds. However, it's interesting to see that there is no strong correlation between the price and any particular amenity, relatively speaking. \n",
    "\n",
    "Review scores ratings have a much lower positive correlation to the price as well.\n",
    "\n",
    "There are still positive correlations between the price and the amenities, with \"Cable TV\" and \"Family/Kid Friendly\" being the highest."
   ]
  },
  {
   "cell_type": "markdown",
   "metadata": {},
   "source": [
    "### 3. Which property types have the highest average price?\n",
    "\n",
    "We will look at the average price across different property types for the final question."
   ]
  },
  {
   "cell_type": "code",
   "execution_count": 190,
   "metadata": {},
   "outputs": [
    {
     "data": {
      "image/png": "[encoded data removed]",
      "text/plain": [
       "<Figure size 720x576 with 1 Axes>"
      ]
     },
     "metadata": {
      "needs_background": "light"
     },
     "output_type": "display_data"
    }
   ],
   "source": [
    "fig, ax = plt.subplots(figsize=(10,8))\n",
    "\n",
    "listings_clean.groupby(\"property_type\")[\"price\"].mean().sort_values(ascending=False).plot.bar()\n",
    "plt.xlabel(\"Property Type\")\n",
    "plt.ylabel(\"Average Price (Dollars)\")\n",
    "plt.title(\"Average Price per Property Type\")\n",
    "plt.xticks(rotation=45);"
   ]
  },
  {
   "cell_type": "code",
   "execution_count": 188,
   "metadata": {},
   "outputs": [
    {
     "data": {
      "text/plain": [
       "property_type\n",
       "Boat           282.37500\n",
       "Condominium    151.10989\n",
       "Loft           135.70000\n",
       "Name: price, dtype: float64"
      ]
     },
     "execution_count": 188,
     "metadata": {},
     "output_type": "execute_result"
    }
   ],
   "source": [
    "# Top 3 property types based on average price\n",
    "listings_clean.groupby(\"property_type\")[\"price\"].mean().nlargest(3)"
   ]
  },
  {
   "cell_type": "markdown",
   "metadata": {},
   "source": [
    "We can clearly see that listings where the property is a boat have the highest average price of about $\\$$282. Followed by Condominium ($\\$$151) and Loft ($\\$$136)"
   ]
  }
 ],
 "metadata": {
  "kernelspec": {
   "display_name": "Python 3",
   "language": "python",
   "name": "python3"
  },
  "language_info": {
   "codemirror_mode": {
    "name": "ipython",
    "version": 3
   },
   "file_extension": ".py",
   "mimetype": "text/x-python",
   "name": "python",
   "nbconvert_exporter": "python",
   "pygments_lexer": "ipython3",
   "version": "3.7.3"
  },
  "widgets": {
   "state": {},
   "version": "1.1.2"
  }
 },
 "nbformat": 4,
 "nbformat_minor": 2
}
